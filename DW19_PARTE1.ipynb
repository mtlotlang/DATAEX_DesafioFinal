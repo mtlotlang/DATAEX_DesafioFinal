{
    "metadata": {
        "kernelspec": {
            "name": "SQL",
            "display_name": "SQL",
            "language": "sql"
        },
        "language_info": {
            "name": "sql",
            "version": ""
        },
        "extensions": {
            "azuredatastudio": {
                "version": 1,
                "views": []
            }
        }
    },
    "nbformat_minor": 2,
    "nbformat": 4,
    "cells": [
        {
            "cell_type": "code",
            "source": [
                "--DESAFIO DWE2022\r\n",
                "-- ALUNA_19: NATHÁLIA SANTIAGO\r\n",
                "-- PARTE 1 --"
            ],
            "metadata": {
                "azdata_cell_guid": "9899723f-e133-4e1c-9e9f-aaa671797b9f"
            },
            "outputs": [],
            "execution_count": null
        },
        {
            "cell_type": "code",
            "source": [
                "--CREATE DATABASE DW19"
            ],
            "metadata": {
                "azdata_cell_guid": "3276fd31-a3a2-4361-ba5e-c434470ee174"
            },
            "outputs": [
                {
                    "output_type": "display_data",
                    "data": {
                        "text/html": "Commands completed successfully."
                    },
                    "metadata": {}
                },
                {
                    "output_type": "display_data",
                    "data": {
                        "text/html": "Total execution time: 00:00:00.450"
                    },
                    "metadata": {}
                }
            ],
            "execution_count": 1
        },
        {
            "cell_type": "code",
            "source": [
                "use DW19"
            ],
            "metadata": {
                "azdata_cell_guid": "28a738d3-111a-445a-8894-05aab38397a3"
            },
            "outputs": [
                {
                    "output_type": "display_data",
                    "data": {
                        "text/html": "Commands completed successfully."
                    },
                    "metadata": {}
                },
                {
                    "output_type": "display_data",
                    "data": {
                        "text/html": "Total execution time: 00:00:00.008"
                    },
                    "metadata": {}
                }
            ],
            "execution_count": 2
        },
        {
            "cell_type": "code",
            "source": [
                "-- EXERCÍCIO 1 --\r\n",
                "IF NOT EXISTS (\r\n",
                "    SELECT name\r\n",
                "    FROM sys.tables\r\n",
                "    WHERE name = N'CIDADE'\r\n",
                ")\r\n",
                "\r\n",
                "CREATE TABLE CIDADE\r\n",
                "(\r\n",
                "  ID_CIDADE int NOT NULL PRIMARY KEY,\r\n",
                "  NOME_CIDADE VARCHAR(60) NOT NULL,\r\n",
                "  UF VARCHAR(2) NOT NULL\r\n",
                "  );"
            ],
            "metadata": {
                "azdata_cell_guid": "bc6676da-0c03-46f7-aeca-7b8e64ec5b0d"
            },
            "outputs": [
                {
                    "output_type": "display_data",
                    "data": {
                        "text/html": "Commands completed successfully."
                    },
                    "metadata": {}
                },
                {
                    "output_type": "display_data",
                    "data": {
                        "text/html": "Total execution time: 00:00:00.020"
                    },
                    "metadata": {}
                }
            ],
            "execution_count": 3
        },
        {
            "cell_type": "code",
            "source": [
                "IF NOT EXISTS (\r\n",
                "    SELECT name\r\n",
                "    FROM sys.tables\r\n",
                "    WHERE name = N'CLIENTE'\r\n",
                ")\r\n",
                "\r\n",
                "CREATE TABLE CLIENTE\r\n",
                "(\r\n",
                "  ID_CLIENTE int NOT NULL PRIMARY KEY,\r\n",
                "  NOME_CLIENTE VARCHAR(60) NOT NULL,\r\n",
                "  ENDERECO VARCHAR(60) NOT NULL,\r\n",
                "  NUMERO VARCHAR(10) NOT NULL,\r\n",
                "  ID_CIDADE int NOT NULL,\r\n",
                "  CEP VARCHAR(9) NOT NULL,\r\n",
                "  FOREIGN KEY(ID_CIDADE) REFERENCES CIDADE(ID_CIDADE)\r\n",
                "  );"
            ],
            "metadata": {
                "azdata_cell_guid": "c722f9e2-42d8-46ac-9b92-8f6de0057ac5"
            },
            "outputs": [
                {
                    "output_type": "display_data",
                    "data": {
                        "text/html": "Commands completed successfully."
                    },
                    "metadata": {}
                },
                {
                    "output_type": "display_data",
                    "data": {
                        "text/html": "Total execution time: 00:00:00.020"
                    },
                    "metadata": {}
                }
            ],
            "execution_count": 1
        },
        {
            "cell_type": "code",
            "source": [
                "IF NOT EXISTS (\r\n",
                "    SELECT name\r\n",
                "    FROM sys.tables\r\n",
                "    WHERE name = N'VENDEDORES'\r\n",
                ")\r\n",
                "\r\n",
                "CREATE TABLE VENDEDORES\r\n",
                "(\r\n",
                "  ID_VENDEDOR int NOT NULL PRIMARY KEY,\r\n",
                "  NOME_VENDED VARCHAR(60) NOT NULL,\r\n",
                "  SALARIO DECIMAL(10,2) NOT NULL\r\n",
                "  );"
            ],
            "metadata": {
                "azdata_cell_guid": "e2ea720c-4217-4d5e-b6d7-923ef0949155",
                "tags": []
            },
            "outputs": [
                {
                    "output_type": "display_data",
                    "data": {
                        "text/html": "Commands completed successfully."
                    },
                    "metadata": {}
                },
                {
                    "output_type": "display_data",
                    "data": {
                        "text/html": "Total execution time: 00:00:00.020"
                    },
                    "metadata": {}
                }
            ],
            "execution_count": 3
        },
        {
            "cell_type": "code",
            "source": [
                "IF NOT EXISTS (\r\n",
                "    SELECT name\r\n",
                "    FROM sys.tables\r\n",
                "    WHERE name = N'VENDAS'\r\n",
                ")\r\n",
                "\r\n",
                "CREATE TABLE VENDAS\r\n",
                "(\r\n",
                "  NUM_VEND int NOT NULL PRIMARY KEY,\r\n",
                "  DATA_VEN DATETIME NOT NULL,\r\n",
                "  ID_CLIENTE int NOT NULL,\r\n",
                "  ID_VENDED int NOT NULL,\r\n",
                "  STATUS CHAR(1) NOT NULL,\r\n",
                "  FOREIGN KEY(ID_CLIENTE) REFERENCES CLIENTE(ID_CLIENTE),\r\n",
                "  FOREIGN KEY(ID_VENDED) REFERENCES VENDEDORES(ID_VENDEDOR),\r\n",
                "  );"
            ],
            "metadata": {
                "azdata_cell_guid": "c96a8a80-a587-48e3-b68a-a410ac56cdfd"
            },
            "outputs": [
                {
                    "output_type": "display_data",
                    "data": {
                        "text/html": "Commands completed successfully."
                    },
                    "metadata": {}
                },
                {
                    "output_type": "display_data",
                    "data": {
                        "text/html": "Total execution time: 00:00:00.024"
                    },
                    "metadata": {}
                }
            ],
            "execution_count": 4
        },
        {
            "cell_type": "code",
            "source": [
                "IF NOT EXISTS (\r\n",
                "    SELECT name\r\n",
                "    FROM sys.tables\r\n",
                "    WHERE name = N'CATEGORIA'\r\n",
                ")\r\n",
                "CREATE TABLE CATEGORIA\r\n",
                "(\r\n",
                "  ID_CATEGORIA int NOT NULL PRIMARY KEY,\r\n",
                "  NOME_CATEGOR VARCHAR(20) NOT NULL\r\n",
                "  );"
            ],
            "metadata": {
                "azdata_cell_guid": "8d87fcc1-5004-4280-a3ea-a9357a1c17fb"
            },
            "outputs": [
                {
                    "output_type": "display_data",
                    "data": {
                        "text/html": "Commands completed successfully."
                    },
                    "metadata": {}
                },
                {
                    "output_type": "display_data",
                    "data": {
                        "text/html": "Total execution time: 00:00:00.022"
                    },
                    "metadata": {}
                }
            ],
            "execution_count": 5
        },
        {
            "cell_type": "code",
            "source": [
                "IF NOT EXISTS (\r\n",
                "    SELECT name\r\n",
                "    FROM sys.tables\r\n",
                "    WHERE name = N'UNIDADE'\r\n",
                ")\r\n",
                "CREATE TABLE UNIDADE\r\n",
                "(\r\n",
                "  ID_UNIDADE VARCHAR(3) NOT NULL PRIMARY KEY,\r\n",
                "  DESC_UNIDADE VARCHAR(25) NOT NULL\r\n",
                "  );"
            ],
            "metadata": {
                "azdata_cell_guid": "f0925b39-1a6f-4ee1-a93b-5e06547cdedf",
                "tags": []
            },
            "outputs": [
                {
                    "output_type": "display_data",
                    "data": {
                        "text/html": "Commands completed successfully."
                    },
                    "metadata": {}
                },
                {
                    "output_type": "display_data",
                    "data": {
                        "text/html": "Total execution time: 00:00:00.015"
                    },
                    "metadata": {}
                }
            ],
            "execution_count": 6
        },
        {
            "cell_type": "code",
            "source": [
                "IF NOT EXISTS (\r\n",
                "    SELECT name\r\n",
                "    FROM sys.tables\r\n",
                "    WHERE name = N'PRODUTOS'\r\n",
                ")\r\n",
                "\r\n",
                "CREATE TABLE PRODUTOS\r\n",
                "(\r\n",
                "  ID_PROD int NOT NULL PRIMARY KEY,\r\n",
                "  NOME_PROD VARCHAR(50) NOT NULL,\r\n",
                "  ID_CATEGORI int NOT NULL,\r\n",
                "  ID_UNIDADE VARCHAR(3) NOT NULL,\r\n",
                "  PRECO DECIMAL(10,2) NOT NULL,\r\n",
                "  FOREIGN KEY(ID_CATEGORI) REFERENCES CATEGORIA(ID_CATEGORIA),\r\n",
                "  FOREIGN KEY(ID_UNIDADE) REFERENCES UNIDADE(ID_UNIDADE)\r\n",
                "  );"
            ],
            "metadata": {
                "azdata_cell_guid": "9f52d50b-1d7a-447d-b200-5cfd83cc5a58"
            },
            "outputs": [
                {
                    "output_type": "display_data",
                    "data": {
                        "text/html": "Commands completed successfully."
                    },
                    "metadata": {}
                },
                {
                    "output_type": "display_data",
                    "data": {
                        "text/html": "Total execution time: 00:00:00.018"
                    },
                    "metadata": {}
                }
            ],
            "execution_count": 7
        },
        {
            "cell_type": "code",
            "source": [
                "IF NOT EXISTS (\r\n",
                "    SELECT name\r\n",
                "    FROM sys.tables\r\n",
                "    WHERE name = N'VENDA_ITENS'\r\n",
                ")\r\n",
                "\r\n",
                "CREATE TABLE VENDA_ITENS\r\n",
                "(\r\n",
                "  NUM_VE int NOT NULL,\r\n",
                "  NUM_SE int NOT NULL,\r\n",
                "  ID_PROD int NOT NULL,\r\n",
                "  QTDE DECIMAL(10,2) NOT NULL,\r\n",
                "  VAL_UNI DECIMAL(10,2) NOT NULL,\r\n",
                "  VAL_TOT DECIMAL(10,2) NOT NULL,\r\n",
                "  FOREIGN KEY(NUM_VE) REFERENCES VENDAS(NUM_VEND),\r\n",
                "  FOREIGN KEY(ID_PROD) REFERENCES PRODUTOS(ID_PROD),\r\n",
                "\r\n",
                "  CONSTRAINT PK_VENDA_ITENS PRIMARY KEY (NUM_VE, NUM_SE) --PRIMARY KEY COMPOSTA\r\n",
                "  );     "
            ],
            "metadata": {
                "azdata_cell_guid": "5a26e704-714f-4e38-ab24-ed3e509bdfe7",
                "tags": []
            },
            "outputs": [
                {
                    "output_type": "display_data",
                    "data": {
                        "text/html": "Commands completed successfully."
                    },
                    "metadata": {}
                },
                {
                    "output_type": "display_data",
                    "data": {
                        "text/html": "Total execution time: 00:00:00.034"
                    },
                    "metadata": {}
                }
            ],
            "execution_count": 11
        },
        {
            "cell_type": "code",
            "source": [
                "--EXERCÍCIO 2\r\n",
                "\r\n",
                "--CREATE DATABASE DW19_TREINO\r\n",
                "--use DW19_TREINO\r\n",
                ""
            ],
            "metadata": {
                "azdata_cell_guid": "3beca01c-485a-4ab8-8020-2ebb9bca0fc4"
            },
            "outputs": [
                {
                    "output_type": "error",
                    "evalue": "Msg 1801, Level 16, State 3, Line 1\r\nDatabase 'DW19_TREINO' already exists. Choose a different database name.",
                    "ename": "",
                    "traceback": []
                },
                {
                    "output_type": "display_data",
                    "data": {
                        "text/html": "Total execution time: 00:00:00.001"
                    },
                    "metadata": {}
                }
            ],
            "execution_count": 14
        },
        {
            "cell_type": "code",
            "source": [
                "-- EXERCÍCIO 3\r\n",
                "SELECT  CLI.NOME_CLIENTE AS CLIENTE, \r\n",
                "        CID.NOME_CIDADE AS CIDADE, \r\n",
                "        CID.UF AS ESTADO\r\n",
                "\r\n",
                "FROM    DBO.CLIENTE CLI\r\n",
                "INNER   JOIN DBO.CIDADE CID\r\n",
                "ON      CLI.ID_CIDADE = CID.ID_CIDADE\r\n",
                "\r\n",
                "ORDER   BY CLI.NOME_CLIENTE ASC;"
            ],
            "metadata": {
                "azdata_cell_guid": "d1eeb2c0-fd18-4ac0-aae5-04c1195b7aad"
            },
            "outputs": [
                {
                    "output_type": "display_data",
                    "data": {
                        "text/html": "(10 rows affected)"
                    },
                    "metadata": {}
                },
                {
                    "output_type": "display_data",
                    "data": {
                        "text/html": "Total execution time: 00:00:01.027"
                    },
                    "metadata": {}
                },
                {
                    "output_type": "execute_result",
                    "metadata": {},
                    "execution_count": 20,
                    "data": {
                        "application/vnd.dataresource+json": {
                            "schema": {
                                "fields": [
                                    {
                                        "name": "CLIENTE"
                                    },
                                    {
                                        "name": "CIDADE"
                                    },
                                    {
                                        "name": "ESTADO"
                                    }
                                ]
                            },
                            "data": [
                                {
                                    "0": "Giga 10",
                                    "1": "Campinas",
                                    "2": "SP"
                                },
                                {
                                    "0": "Hiper Giga",
                                    "1": "São Paulo",
                                    "2": "SP"
                                },
                                {
                                    "0": "Hiper Sempre",
                                    "1": "São Paulo",
                                    "2": "SP"
                                },
                                {
                                    "0": "Lojas Mega",
                                    "1": "Jundiai",
                                    "2": "SP"
                                },
                                {
                                    "0": "Lojas Plus",
                                    "1": "Volta Redonda",
                                    "2": "RJ"
                                },
                                {
                                    "0": "Lojas Vitoria",
                                    "1": "Volta Redonda",
                                    "2": "RJ"
                                },
                                {
                                    "0": "Rede Atacado",
                                    "1": "Rio de Janeiro",
                                    "2": "RJ"
                                },
                                {
                                    "0": "Rede mais",
                                    "1": "Niterói",
                                    "2": "RJ"
                                },
                                {
                                    "0": "Rede MercoSul",
                                    "1": "Niterói",
                                    "2": "RJ"
                                },
                                {
                                    "0": "Super Tera",
                                    "1": "Rio de Janeiro",
                                    "2": "RJ"
                                }
                            ]
                        },
                        "text/html": [
                            "<table>",
                            "<tr><th>CLIENTE</th><th>CIDADE</th><th>ESTADO</th></tr>",
                            "<tr><td>Giga 10</td><td>Campinas</td><td>SP</td></tr>",
                            "<tr><td>Hiper Giga</td><td>São Paulo</td><td>SP</td></tr>",
                            "<tr><td>Hiper Sempre</td><td>São Paulo</td><td>SP</td></tr>",
                            "<tr><td>Lojas Mega</td><td>Jundiai</td><td>SP</td></tr>",
                            "<tr><td>Lojas Plus</td><td>Volta Redonda</td><td>RJ</td></tr>",
                            "<tr><td>Lojas Vitoria</td><td>Volta Redonda</td><td>RJ</td></tr>",
                            "<tr><td>Rede Atacado</td><td>Rio de Janeiro</td><td>RJ</td></tr>",
                            "<tr><td>Rede mais</td><td>Niterói</td><td>RJ</td></tr>",
                            "<tr><td>Rede MercoSul</td><td>Niterói</td><td>RJ</td></tr>",
                            "<tr><td>Super Tera</td><td>Rio de Janeiro</td><td>RJ</td></tr>",
                            "</table>"
                        ]
                    }
                }
            ],
            "execution_count": 20
        },
        {
            "cell_type": "code",
            "source": [
                "-- EXERCÍCIO 4\r\n",
                "SELECT  PROD.ID_PROD AS COD_PRODUTO,\r\n",
                "        PROD.NOME_PRODUTO AS PRODUTO,\r\n",
                "        CAT.NOME_CATEGORIA AS CATEGORIA,\r\n",
                "        PROD.PRECO AS PRECO_UNITARIO -- ACRESCENTADA COLUNA PARA DEMONSTRAR CONDIÇÃO SOLICITADA: 10 - 1500\r\n",
                "\r\n",
                "FROM    DBO.PRODUTOS PROD\r\n",
                "INNER   JOIN DBO.CATEGORIA CAT\r\n",
                "ON      PROD.ID_CATEGORIA = CAT.ID_CATEGORIA\r\n",
                "\r\n",
                "WHERE   PROD.PRECO BETWEEN 1 AND 1500\r\n",
                "\r\n",
                "ORDER   BY CAT.NOME_CATEGORIA, PROD.NOME_PRODUTO -- ESCOLHA DE AGRUPAMENTO/ORDENAÇÃO "
            ],
            "metadata": {
                "azdata_cell_guid": "d7ab47c5-bbf8-4a5d-92b5-0c6af178aa2c"
            },
            "outputs": [
                {
                    "output_type": "display_data",
                    "data": {
                        "text/html": "(12 rows affected)"
                    },
                    "metadata": {}
                },
                {
                    "output_type": "display_data",
                    "data": {
                        "text/html": "Total execution time: 00:00:01.006"
                    },
                    "metadata": {}
                },
                {
                    "output_type": "execute_result",
                    "metadata": {},
                    "execution_count": 32,
                    "data": {
                        "application/vnd.dataresource+json": {
                            "schema": {
                                "fields": [
                                    {
                                        "name": "COD_PRODUTO"
                                    },
                                    {
                                        "name": "PRODUTO"
                                    },
                                    {
                                        "name": "CATEGORIA"
                                    },
                                    {
                                        "name": "PRECO_UNITARIO"
                                    }
                                ]
                            },
                            "data": [
                                {
                                    "0": "12",
                                    "1": "Batedeira",
                                    "2": "Eletrodomesticos",
                                    "3": "140.00"
                                },
                                {
                                    "0": "14",
                                    "1": "Geladeira",
                                    "2": "Eletrodomesticos",
                                    "3": "1500.00"
                                },
                                {
                                    "0": "13",
                                    "1": "Liquidificador",
                                    "2": "Eletrodomesticos",
                                    "3": "90.00"
                                },
                                {
                                    "0": "11",
                                    "1": "Mixer",
                                    "2": "Eletrodomesticos",
                                    "3": "120.00"
                                },
                                {
                                    "0": "1",
                                    "1": "HD 500 1 TB",
                                    "2": "Informática",
                                    "3": "350.00"
                                },
                                {
                                    "0": "4",
                                    "1": "HD SSD 250 GB",
                                    "2": "Informática",
                                    "3": "600.00"
                                },
                                {
                                    "0": "3",
                                    "1": "Monitor 15",
                                    "2": "Informática",
                                    "3": "700.00"
                                },
                                {
                                    "0": "2",
                                    "1": "Monitor 17",
                                    "2": "Informática",
                                    "3": "900.00"
                                },
                                {
                                    "0": "5",
                                    "1": "Teclado",
                                    "2": "Informática",
                                    "3": "50.00"
                                },
                                {
                                    "0": "9",
                                    "1": "TV Plasma 32",
                                    "2": "TV´s",
                                    "3": "1200.00"
                                },
                                {
                                    "0": "15",
                                    "1": "Aspirador de pó",
                                    "2": "Utilidades do Lar",
                                    "3": "150.00"
                                },
                                {
                                    "0": "10",
                                    "1": "Fogao",
                                    "2": "Utilidades do Lar",
                                    "3": "900.00"
                                }
                            ]
                        },
                        "text/html": [
                            "<table>",
                            "<tr><th>COD_PRODUTO</th><th>PRODUTO</th><th>CATEGORIA</th><th>PRECO_UNITARIO</th></tr>",
                            "<tr><td>12</td><td>Batedeira</td><td>Eletrodomesticos</td><td>140.00</td></tr>",
                            "<tr><td>14</td><td>Geladeira</td><td>Eletrodomesticos</td><td>1500.00</td></tr>",
                            "<tr><td>13</td><td>Liquidificador</td><td>Eletrodomesticos</td><td>90.00</td></tr>",
                            "<tr><td>11</td><td>Mixer</td><td>Eletrodomesticos</td><td>120.00</td></tr>",
                            "<tr><td>1</td><td>HD 500 1 TB</td><td>Informática</td><td>350.00</td></tr>",
                            "<tr><td>4</td><td>HD SSD 250 GB</td><td>Informática</td><td>600.00</td></tr>",
                            "<tr><td>3</td><td>Monitor 15</td><td>Informática</td><td>700.00</td></tr>",
                            "<tr><td>2</td><td>Monitor 17</td><td>Informática</td><td>900.00</td></tr>",
                            "<tr><td>5</td><td>Teclado</td><td>Informática</td><td>50.00</td></tr>",
                            "<tr><td>9</td><td>TV Plasma 32</td><td>TV´s</td><td>1200.00</td></tr>",
                            "<tr><td>15</td><td>Aspirador de pó</td><td>Utilidades do Lar</td><td>150.00</td></tr>",
                            "<tr><td>10</td><td>Fogao</td><td>Utilidades do Lar</td><td>900.00</td></tr>",
                            "</table>"
                        ]
                    }
                }
            ],
            "execution_count": 32
        },
        {
            "cell_type": "code",
            "source": [
                "--EXERCÍCIO 5\r\n",
                "SELECT  PROD.ID_PROD AS COD_PRODUTO,\r\n",
                "        PROD.NOME_PRODUTO AS PRODUTO,\r\n",
                "        CAT.NOME_CATEGORIA AS CATEGORIA_PRODUTO,\r\n",
                "        (\r\n",
                "        CASE\r\n",
                "            WHEN PROD.PRECO < 500 THEN 'PREÇO ABAIXO DE R$500'\r\n",
                "            WHEN (PROD.PRECO >= 500 AND PROD.PRECO <= 1000)  THEN 'PREÇO ENTRE R$500 E R$1000'\r\n",
                "            ELSE 'PREÇO ACIMA DE R$1000'\r\n",
                "        END\r\n",
                "        ) AS FAIXA_PRECO\r\n",
                "\r\n",
                "FROM    DBO.PRODUTOS PROD \r\n",
                "INNER   JOIN DBO.CATEGORIA CAT\r\n",
                "ON      PROD.ID_CATEGORIA = CAT.ID_CATEGORIA;"
            ],
            "metadata": {
                "azdata_cell_guid": "f55d3aab-9650-4f36-b48a-304695c057dc"
            },
            "outputs": [
                {
                    "output_type": "display_data",
                    "data": {
                        "text/html": "(15 rows affected)"
                    },
                    "metadata": {}
                },
                {
                    "output_type": "display_data",
                    "data": {
                        "text/html": "Total execution time: 00:00:00.034"
                    },
                    "metadata": {}
                },
                {
                    "output_type": "execute_result",
                    "metadata": {},
                    "execution_count": 34,
                    "data": {
                        "application/vnd.dataresource+json": {
                            "schema": {
                                "fields": [
                                    {
                                        "name": "COD_PRODUTO"
                                    },
                                    {
                                        "name": "PRODUTO"
                                    },
                                    {
                                        "name": "CATEGORIA_PRODUTO"
                                    },
                                    {
                                        "name": "PRECO"
                                    },
                                    {
                                        "name": "FAIXA_PRECO"
                                    }
                                ]
                            },
                            "data": [
                                {
                                    "0": "1",
                                    "1": "HD 500 1 TB",
                                    "2": "Informática",
                                    "3": "350.00",
                                    "4": "PREÇO ABAIXO DE R$500"
                                },
                                {
                                    "0": "2",
                                    "1": "Monitor 17",
                                    "2": "Informática",
                                    "3": "900.00",
                                    "4": "PREÇO ENTR R$500 E R$1000"
                                },
                                {
                                    "0": "3",
                                    "1": "Monitor 15",
                                    "2": "Informática",
                                    "3": "700.00",
                                    "4": "PREÇO ENTR R$500 E R$1000"
                                },
                                {
                                    "0": "4",
                                    "1": "HD SSD 250 GB",
                                    "2": "Informática",
                                    "3": "600.00",
                                    "4": "PREÇO ENTR R$500 E R$1000"
                                },
                                {
                                    "0": "5",
                                    "1": "Teclado",
                                    "2": "Informática",
                                    "3": "50.00",
                                    "4": "PREÇO ABAIXO DE R$500"
                                },
                                {
                                    "0": "6",
                                    "1": "TV LED 40",
                                    "2": "TV´s",
                                    "3": "2300.00",
                                    "4": "PREÇO ACIMA DE R$1000"
                                },
                                {
                                    "0": "7",
                                    "1": "TV LCD 40",
                                    "2": "TV´s",
                                    "3": "2500.00",
                                    "4": "PREÇO ACIMA DE R$1000"
                                },
                                {
                                    "0": "8",
                                    "1": "SMART TV 4K 50",
                                    "2": "TV´s",
                                    "3": "3700.00",
                                    "4": "PREÇO ACIMA DE R$1000"
                                },
                                {
                                    "0": "9",
                                    "1": "TV Plasma 32",
                                    "2": "TV´s",
                                    "3": "1200.00",
                                    "4": "PREÇO ACIMA DE R$1000"
                                },
                                {
                                    "0": "10",
                                    "1": "Fogao",
                                    "2": "Utilidades do Lar",
                                    "3": "900.00",
                                    "4": "PREÇO ENTR R$500 E R$1000"
                                },
                                {
                                    "0": "11",
                                    "1": "Mixer",
                                    "2": "Eletrodomesticos",
                                    "3": "120.00",
                                    "4": "PREÇO ABAIXO DE R$500"
                                },
                                {
                                    "0": "12",
                                    "1": "Batedeira",
                                    "2": "Eletrodomesticos",
                                    "3": "140.00",
                                    "4": "PREÇO ABAIXO DE R$500"
                                },
                                {
                                    "0": "13",
                                    "1": "Liquidificador",
                                    "2": "Eletrodomesticos",
                                    "3": "90.00",
                                    "4": "PREÇO ABAIXO DE R$500"
                                },
                                {
                                    "0": "14",
                                    "1": "Geladeira",
                                    "2": "Eletrodomesticos",
                                    "3": "1500.00",
                                    "4": "PREÇO ACIMA DE R$1000"
                                },
                                {
                                    "0": "15",
                                    "1": "Aspirador de pó",
                                    "2": "Utilidades do Lar",
                                    "3": "150.00",
                                    "4": "PREÇO ABAIXO DE R$500"
                                }
                            ]
                        },
                        "text/html": [
                            "<table>",
                            "<tr><th>COD_PRODUTO</th><th>PRODUTO</th><th>CATEGORIA_PRODUTO</th><th>PRECO</th><th>FAIXA_PRECO</th></tr>",
                            "<tr><td>1</td><td>HD 500 1 TB</td><td>Informática</td><td>350.00</td><td>PREÇO ABAIXO DE R$500</td></tr>",
                            "<tr><td>2</td><td>Monitor 17</td><td>Informática</td><td>900.00</td><td>PREÇO ENTR R$500 E R$1000</td></tr>",
                            "<tr><td>3</td><td>Monitor 15</td><td>Informática</td><td>700.00</td><td>PREÇO ENTR R$500 E R$1000</td></tr>",
                            "<tr><td>4</td><td>HD SSD 250 GB</td><td>Informática</td><td>600.00</td><td>PREÇO ENTR R$500 E R$1000</td></tr>",
                            "<tr><td>5</td><td>Teclado</td><td>Informática</td><td>50.00</td><td>PREÇO ABAIXO DE R$500</td></tr>",
                            "<tr><td>6</td><td>TV LED 40</td><td>TV´s</td><td>2300.00</td><td>PREÇO ACIMA DE R$1000</td></tr>",
                            "<tr><td>7</td><td>TV LCD 40</td><td>TV´s</td><td>2500.00</td><td>PREÇO ACIMA DE R$1000</td></tr>",
                            "<tr><td>8</td><td>SMART TV 4K 50</td><td>TV´s</td><td>3700.00</td><td>PREÇO ACIMA DE R$1000</td></tr>",
                            "<tr><td>9</td><td>TV Plasma 32</td><td>TV´s</td><td>1200.00</td><td>PREÇO ACIMA DE R$1000</td></tr>",
                            "<tr><td>10</td><td>Fogao</td><td>Utilidades do Lar</td><td>900.00</td><td>PREÇO ENTR R$500 E R$1000</td></tr>",
                            "<tr><td>11</td><td>Mixer</td><td>Eletrodomesticos</td><td>120.00</td><td>PREÇO ABAIXO DE R$500</td></tr>",
                            "<tr><td>12</td><td>Batedeira</td><td>Eletrodomesticos</td><td>140.00</td><td>PREÇO ABAIXO DE R$500</td></tr>",
                            "<tr><td>13</td><td>Liquidificador</td><td>Eletrodomesticos</td><td>90.00</td><td>PREÇO ABAIXO DE R$500</td></tr>",
                            "<tr><td>14</td><td>Geladeira</td><td>Eletrodomesticos</td><td>1500.00</td><td>PREÇO ACIMA DE R$1000</td></tr>",
                            "<tr><td>15</td><td>Aspirador de pó</td><td>Utilidades do Lar</td><td>150.00</td><td>PREÇO ABAIXO DE R$500</td></tr>",
                            "</table>"
                        ]
                    }
                }
            ],
            "execution_count": 34
        }
    ]
}