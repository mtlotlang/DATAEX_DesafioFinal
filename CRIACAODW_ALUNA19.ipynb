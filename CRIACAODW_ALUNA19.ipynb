{
    "metadata": {
        "kernelspec": {
            "name": "SQL",
            "display_name": "SQL",
            "language": "sql"
        },
        "language_info": {
            "name": "sql",
            "version": ""
        },
        "extensions": {
            "azuredatastudio": {
                "version": 1,
                "views": []
            }
        }
    },
    "nbformat_minor": 2,
    "nbformat": 4,
    "cells": [
        {
            "cell_type": "code",
            "source": [
                "-- DWE2022 - DESAFIO\r\n",
                "-- ALUNA_19"
            ],
            "metadata": {
                "azdata_cell_guid": "0a33bec9-fb34-4931-a765-102e24cffa5a"
            },
            "outputs": [],
            "execution_count": null
        },
        {
            "cell_type": "code",
            "source": [
                "--CRIAR O DB LOCAL\r\n",
                "-- DROP DATABASE DW_TREINO\r\n",
                "--CREATE DATABASE DW19\r\n",
                "--GO\r\n",
                ""
            ],
            "metadata": {
                "azdata_cell_guid": "39bcadce-188d-4d62-8707-a12d3dea0533"
            },
            "outputs": [],
            "execution_count": null
        },
        {
            "cell_type": "code",
            "source": [
                "USE DW19\r\n",
                "GO"
            ],
            "metadata": {
                "azdata_cell_guid": "80577699-4407-4ba0-ac98-3fbb812dad4f"
            },
            "outputs": [
                {
                    "output_type": "display_data",
                    "data": {
                        "text/html": "Commands completed successfully."
                    },
                    "metadata": {}
                },
                {
                    "output_type": "display_data",
                    "data": {
                        "text/html": "Total execution time: 00:00:00.033"
                    },
                    "metadata": {}
                }
            ],
            "execution_count": 1
        },
        {
            "cell_type": "code",
            "source": [
                "--CRIANDO TABELA DE LOG\r\n",
                "IF NOT EXISTS\r\n",
                " (SELECT * FROM sysobjects WHERE name='LOG_CARGAS' AND xtype='U')\r\n",
                "\r\n",
                "CREATE TABLE LOG_CARGAS\r\n",
                " (ID INT IDENTITY(1,1) NOT NULL PRIMARY KEY,\r\n",
                " NUMERO_ERRO INT,\r\n",
                " SERVERIDADE_ERRO INT,\r\n",
                " ESTADO_ERRO  INT,\r\n",
                " PROC_ERRO NVARCHAR(255),\r\n",
                " LINHA_ERRO INT,\r\n",
                " MSG_ERRO NVARCHAR(255),\r\n",
                " SITUACAO NVARCHAR(10),\r\n",
                " PROCESSO NVARCHAR(30),\r\n",
                " DATA_INI DATETIME,\r\n",
                " DATA_FIM DATETIME  \r\n",
                " )\r\n",
                " GO"
            ],
            "metadata": {
                "azdata_cell_guid": "1706bc8f-7132-4381-b04d-b5656d2860a0"
            },
            "outputs": [
                {
                    "output_type": "display_data",
                    "data": {
                        "text/html": "Commands completed successfully."
                    },
                    "metadata": {}
                },
                {
                    "output_type": "display_data",
                    "data": {
                        "text/html": "Total execution time: 00:00:00.030"
                    },
                    "metadata": {}
                }
            ],
            "execution_count": 2
        },
        {
            "cell_type": "code",
            "source": [
                "-- CRIANDO TABELA STAGING\r\n",
                "IF NOT EXISTS\r\n",
                "  (SELECT * FROM sysobjects WHERE name='STG_VENDAS' AND xtype='U')\r\n",
                "CREATE TABLE [dbo].[STG_VENDAS](\r\n",
                "\t[SEGMENTO] [varchar](50) NULL,\r\n",
                "\t[PAIS] [varchar](50) NULL,\r\n",
                "\t[PRODUTO] [varchar](50) NULL,\r\n",
                "\t[TIPO_DESCONTO] [varchar](50) NULL,\r\n",
                "\t[QTDE_VENDAS] [varchar](50) NULL,\r\n",
                "\t[PRECO_CUSTO] [varchar](50) NULL,\r\n",
                "\t[PRECO_VENDA] [varchar](50) NULL,\r\n",
                "\t[VENDAS_BRUTA] [varchar](50) NULL,\r\n",
                "\t[DESCONTO] [varchar](50) NULL,\r\n",
                "\t[VENDAS] [varchar](50) NULL,\r\n",
                "\t[CUSTO_VENDA] [varchar](50) NULL,\r\n",
                "\t[LUCRO] [varchar](50) NULL,\r\n",
                "\t[DATA_VENDA] [varchar](50) NULL\r\n",
                ")\r\n",
                "GO"
            ],
            "metadata": {
                "azdata_cell_guid": "7641b0ab-6b2e-40a1-922d-aaf9084ca360",
                "tags": []
            },
            "outputs": [
                {
                    "output_type": "display_data",
                    "data": {
                        "text/html": "Commands completed successfully."
                    },
                    "metadata": {}
                },
                {
                    "output_type": "display_data",
                    "data": {
                        "text/html": "Total execution time: 00:00:00.021"
                    },
                    "metadata": {}
                }
            ],
            "execution_count": 12
        },
        {
            "cell_type": "code",
            "source": [
                "--CRIANDO DIMENSAO  SEGMENTO\r\n",
                "IF NOT EXISTS\r\n",
                "  (SELECT * FROM sysobjects WHERE name='D_Segmento' AND xtype='U')\r\n",
                "CREATE TABLE [dbo].[D_Segmento](\r\n",
                "\t[ID_SEGMENTO] [int] IDENTITY(1,1) NOT NULL,\r\n",
                "\t[NOME_SEGMENTO] [varchar](50) NULL,\r\n",
                "PRIMARY KEY CLUSTERED \r\n",
                "(\r\n",
                "\t[ID_SEGMENTO] ASC\r\n",
                ")WITH (PAD_INDEX = OFF, STATISTICS_NORECOMPUTE = OFF, IGNORE_DUP_KEY = OFF, ALLOW_ROW_LOCKS = ON, ALLOW_PAGE_LOCKS = ON, OPTIMIZE_FOR_SEQUENTIAL_KEY = OFF) ON [PRIMARY]\r\n",
                ") ON [PRIMARY]\r\n",
                "GO\r\n",
                "\r\n",
                "-- PRIMARY KEY CLUSTERED (EXEMPLO DE SCRIPT AULA07)"
            ],
            "metadata": {
                "azdata_cell_guid": "5804176c-493c-426f-ae6a-611ed8572522"
            },
            "outputs": [
                {
                    "output_type": "display_data",
                    "data": {
                        "text/html": "Commands completed successfully."
                    },
                    "metadata": {}
                },
                {
                    "output_type": "display_data",
                    "data": {
                        "text/html": "Total execution time: 00:00:00.028"
                    },
                    "metadata": {}
                }
            ],
            "execution_count": 4
        },
        {
            "cell_type": "code",
            "source": [
                "--CRIANDO DIMENSAO  PAIS\r\n",
                "IF NOT EXISTS\r\n",
                "  (SELECT * FROM sysobjects WHERE name='D_Pais' AND xtype='U')\r\n",
                "CREATE TABLE [dbo].[D_Pais](\r\n",
                "\t[ID_PAIS] [int] IDENTITY(1,1) NOT NULL,\r\n",
                "\t[NOME_PAIS] [varchar](50) NULL,\r\n",
                "PRIMARY KEY CLUSTERED \r\n",
                "(\r\n",
                "\t[ID_PAIS] ASC\r\n",
                ")WITH (PAD_INDEX = OFF, STATISTICS_NORECOMPUTE = OFF, IGNORE_DUP_KEY = OFF, ALLOW_ROW_LOCKS = ON, ALLOW_PAGE_LOCKS = ON, OPTIMIZE_FOR_SEQUENTIAL_KEY = OFF) ON [PRIMARY]\r\n",
                ") ON [PRIMARY]\r\n",
                "GO"
            ],
            "metadata": {
                "azdata_cell_guid": "5a979c79-c25e-40f2-9230-ee8e6aa5bd0d"
            },
            "outputs": [
                {
                    "output_type": "display_data",
                    "data": {
                        "text/html": "Commands completed successfully."
                    },
                    "metadata": {}
                },
                {
                    "output_type": "display_data",
                    "data": {
                        "text/html": "Total execution time: 00:00:00.022"
                    },
                    "metadata": {}
                }
            ],
            "execution_count": 5
        },
        {
            "cell_type": "code",
            "source": [
                "--CRIANDO DIMENSAO  PRODUTO\r\n",
                "IF NOT EXISTS\r\n",
                "  (SELECT * FROM sysobjects WHERE name='D_Produto' AND xtype='U')\r\n",
                "CREATE TABLE [dbo].[D_Produto](\r\n",
                "\t[ID_PRODUTO] [int] IDENTITY(1,1) NOT NULL,\r\n",
                "\t[NOME_PRODUTO] [varchar](50) NULL,\r\n",
                "PRIMARY KEY CLUSTERED \r\n",
                "(\r\n",
                "\t[ID_PRODUTO] ASC\r\n",
                ")WITH (PAD_INDEX = OFF, STATISTICS_NORECOMPUTE = OFF, IGNORE_DUP_KEY = OFF, ALLOW_ROW_LOCKS = ON, ALLOW_PAGE_LOCKS = ON, OPTIMIZE_FOR_SEQUENTIAL_KEY = OFF) ON [PRIMARY]\r\n",
                ") ON [PRIMARY]\r\n",
                "GO"
            ],
            "metadata": {
                "azdata_cell_guid": "8c88a2da-d026-478a-bcad-1bdfb29601ae"
            },
            "outputs": [
                {
                    "output_type": "display_data",
                    "data": {
                        "text/html": "Commands completed successfully."
                    },
                    "metadata": {}
                },
                {
                    "output_type": "display_data",
                    "data": {
                        "text/html": "Total execution time: 00:00:00.020"
                    },
                    "metadata": {}
                }
            ],
            "execution_count": 6
        },
        {
            "cell_type": "code",
            "source": [
                "--CRIANDO DIMENSAO  TIPO_DESCONTO\r\n",
                "IF NOT EXISTS\r\n",
                "  (SELECT * FROM sysobjects WHERE name='D_Desconto' AND xtype='U')\r\n",
                "CREATE TABLE [dbo].[D_Desconto](\r\n",
                "\t[ID_DESCONTO] [int] IDENTITY(1,1) NOT NULL,\r\n",
                "\t[TIPO_DESCONTO] [varchar](50) NULL,\r\n",
                "PRIMARY KEY CLUSTERED \r\n",
                "(\r\n",
                "\t[ID_DESCONTO] ASC\r\n",
                ")WITH (PAD_INDEX = OFF, STATISTICS_NORECOMPUTE = OFF, IGNORE_DUP_KEY = OFF, ALLOW_ROW_LOCKS = ON, ALLOW_PAGE_LOCKS = ON, OPTIMIZE_FOR_SEQUENTIAL_KEY = OFF) ON [PRIMARY]\r\n",
                ") ON [PRIMARY]\r\n",
                "GO"
            ],
            "metadata": {
                "azdata_cell_guid": "b884f390-7314-4be3-8581-b8a95560f2a2"
            },
            "outputs": [
                {
                    "output_type": "display_data",
                    "data": {
                        "text/html": "Commands completed successfully."
                    },
                    "metadata": {}
                },
                {
                    "output_type": "display_data",
                    "data": {
                        "text/html": "Total execution time: 00:00:00.018"
                    },
                    "metadata": {}
                }
            ],
            "execution_count": 7
        },
        {
            "cell_type": "code",
            "source": [
                "--CRIANDO TABELA FATO_VENDAS\r\n",
                "IF NOT EXISTS\r\n",
                "  (SELECT * FROM sysobjects WHERE name='FATO_VENDAS' AND xtype='U')\r\n",
                "CREATE TABLE FATO_VENDAS\r\n",
                "(\r\n",
                "ID_SEGMENTO  [int] NULL,\r\n",
                "ID_PAIS  [int] NULL,\r\n",
                "ID_PRODUTO  [int] NULL,\r\n",
                "ID_DESCONTO  [int] NULL,\r\n",
                "QTDE_VENDAS  DECIMAL(10,2) NULL,\r\n",
                "PRECO_CUSTO  DECIMAL(10,2) NULL,\r\n",
                "PRECO_VENDA  DECIMAL(10,2) NULL,\r\n",
                "VENDA_BRUTA  DECIMAL(10,2) NULL,\r\n",
                "VLR_DESCONTO  DECIMAL(10,2) NULL,\r\n",
                "VLR_VENDA  DECIMAL(10,2) NULL,\r\n",
                "CUSTO_VENDA  DECIMAL(10,2) NULL,\r\n",
                "LUCRO  DECIMAL(10,2) NULL,\r\n",
                "DATA_VENDA  DATE\r\n",
                ")"
            ],
            "metadata": {
                "azdata_cell_guid": "81bacba8-ff09-471b-bd71-223d76c659d2"
            },
            "outputs": [
                {
                    "output_type": "display_data",
                    "data": {
                        "text/html": "Commands completed successfully."
                    },
                    "metadata": {}
                },
                {
                    "output_type": "display_data",
                    "data": {
                        "text/html": "Total execution time: 00:00:00.025"
                    },
                    "metadata": {}
                }
            ],
            "execution_count": 8
        }
    ]
}